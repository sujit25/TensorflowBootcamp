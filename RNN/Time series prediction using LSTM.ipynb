{
 "cells": [
  {
   "cell_type": "code",
   "execution_count": 3,
   "metadata": {
    "collapsed": true
   },
   "outputs": [],
   "source": [
    "import tensorflow as tf\n",
    "import numpy as np\n",
    "import matplotlib.pyplot as plt\n",
    "%matplotlib inline"
   ]
  },
  {
   "cell_type": "code",
   "execution_count": 1,
   "metadata": {},
   "outputs": [],
   "source": [
    "class TimeSeriesData:\n",
    "    '''\n",
    "    class for generating time series and related functionality\n",
    "    '''\n",
    "    def __init__(self, num_points, xmin, xmax):\n",
    "        \n",
    "        if xmin>xmax or num_points<=0 :\n",
    "            print(\"invalid values\")\n",
    "            return \n",
    "        self.xmin = xmin                               # xmin\n",
    "        self.xmax = xmax                               # xmax \n",
    "        self.num_points = num_points\n",
    "        self.step_size = (xmax - xmin)/num_points       # get the step size for each time stamp\n",
    "        self.x_data = np.linspace(xmin,xmax, num_points)\n",
    "        self.y_data = np.sin(self.x_data)\n",
    "        \n",
    "        \n",
    "    def sin_values(self, x_series):\n",
    "        return np.sin(x_series)\n",
    "    \n",
    "    def next_batch(self, batch_size, steps):        \n",
    "        # generate random points of shape (batch_size,1)        \n",
    "        rand_start = np.random.rand(batch_size, 1)\n",
    "        \n",
    "        # convert start of time series to be in range \n",
    "        ts_start = rand_start * (self.xmax - self.xmin - (steps* self.step_size))\n",
    "        \n",
    "        # create batch of time series\n",
    "        batch_ts = ts_start + (np.arange(0.0, steps+1) * self.step_size)\n",
    "        \n",
    "        # create sin wave o/p for current batch data\n",
    "        y_batch = np.sin(batch_ts)\n",
    "                \n",
    "        # transform output batch till steps (0 to n-1) and (1 to n)\n",
    "        return y_batch[:,:-1].reshape(-1, steps,1), y_batch[:,1:].reshape(-1,steps,1)"
   ]
  },
  {
   "cell_type": "code",
   "execution_count": 84,
   "metadata": {},
   "outputs": [],
   "source": [
    "timeSeriesData = TimeSeriesData(100, 0,30)\n",
    "y0, y1 = timeSeriesData.next_batch(1, 10)\n",
    "y0= y0.flatten()\n",
    "y1= y1.flatten()\n",
    "num_time_steps = 30"
   ]
  },
  {
   "cell_type": "code",
   "execution_count": 83,
   "metadata": {},
   "outputs": [
    {
     "data": {
      "text/plain": [
       "[<matplotlib.lines.Line2D at 0x7f72fb1c30f0>]"
      ]
     },
     "execution_count": 83,
     "metadata": {},
     "output_type": "execute_result"
    },
    {
     "data": {
      "image/png": "[encoded data removed]",
      "text/plain": [
       "<matplotlib.figure.Figure at 0x7f72fb1c3160>"
      ]
     },
     "metadata": {},
     "output_type": "display_data"
    }
   ],
   "source": [
    "plt.plot(np.arange(1,len(y0)+1), y0, '-')\n",
    "plt.plot(np.arange(1,len(y1)+1), y1, '.')"
   ]
  },
  {
   "cell_type": "code",
   "execution_count": 85,
   "metadata": {},
   "outputs": [],
   "source": [
    "# training instance \n",
    "train_inst = np.linspace(5, 5+ timeSeriesData.step_size *(num_time_steps+1), num_time_steps+1)"
   ]
  },
  {
   "cell_type": "code",
   "execution_count": 86,
   "metadata": {},
   "outputs": [
    {
     "data": {
      "text/plain": [
       "array([  5.  ,   5.31,   5.62,   5.93,   6.24,   6.55,   6.86,   7.17,\n",
       "         7.48,   7.79,   8.1 ,   8.41,   8.72,   9.03,   9.34,   9.65,\n",
       "         9.96,  10.27,  10.58,  10.89,  11.2 ,  11.51,  11.82,  12.13,\n",
       "        12.44,  12.75,  13.06,  13.37,  13.68,  13.99,  14.3 ])"
      ]
     },
     "execution_count": 86,
     "metadata": {},
     "output_type": "execute_result"
    }
   ],
   "source": [
    "train_inst"
   ]
  },
  {
   "cell_type": "code",
   "execution_count": 93,
   "metadata": {},
   "outputs": [
    {
     "data": {
      "text/plain": [
       "<matplotlib.legend.Legend at 0x7f72fae23e10>"
      ]
     },
     "execution_count": 93,
     "metadata": {},
     "output_type": "execute_result"
    },
    {
     "data": {
      "image/png": "[encoded data removed]",
      "text/plain": [
       "<matplotlib.figure.Figure at 0x7f72faed9e80>"
      ]
     },
     "metadata": {},
     "output_type": "display_data"
    }
   ],
   "source": [
    "plt.title('A training instance')\n",
    "plt.plot(train_inst[:-1], timeSeriesData.sin_values(train_inst[:-1]),'bo', markersize=15, alpha=0.4, label='instance')\n",
    "plt.plot(train_inst[1:], timeSeriesData.sin_values(train_inst[1:]),'ko', markersize=10, alpha=0.4, label='target')\n",
    "plt.legend()"
   ]
  },
  {
   "cell_type": "code",
   "execution_count": null,
   "metadata": {},
   "outputs": [],
   "source": []
  }
 ],
 "metadata": {
  "kernelspec": {
   "display_name": "Python 3",
   "language": "python",
   "name": "python3"
  },
  "language_info": {
   "codemirror_mode": {
    "name": "ipython",
    "version": 3
   },
   "file_extension": ".py",
   "mimetype": "text/x-python",
   "name": "python",
   "nbconvert_exporter": "python",
   "pygments_lexer": "ipython3",
   "version": "3.6.4"
  }
 },
 "nbformat": 4,
 "nbformat_minor": 2
}
