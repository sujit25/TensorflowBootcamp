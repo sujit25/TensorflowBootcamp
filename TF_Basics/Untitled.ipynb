{
 "cells": [
  {
   "cell_type": "code",
   "execution_count": 53,
   "metadata": {},
   "outputs": [],
   "source": [
    "# import libraries\n",
    "\n",
    "import tensorflow as tf\n",
    "import numpy as np\n",
    "import pandas as pd\n",
    "import matplotlib.pyplot as plt"
   ]
  },
  {
   "cell_type": "code",
   "execution_count": 95,
   "metadata": {},
   "outputs": [],
   "source": [
    "x_data = np.linspace(0,1000,1000)\n",
    "noise = np.random.uniform(-4, 4, size=len(x_data))\n",
    "\n",
    "# X = np.linspace(0,10,10) + np.random.uniform(-2, 2, 10)\n",
    "# Y = np.linspace(0,10,10) + np.random.uniform(-2, 2, 10)\n",
    "\n",
    "y_true = x_data + noise + 5"
   ]
  },
  {
   "cell_type": "code",
   "execution_count": 86,
   "metadata": {},
   "outputs": [],
   "source": [
    "batch_size= 50"
   ]
  },
  {
   "cell_type": "code",
   "execution_count": 98,
   "metadata": {},
   "outputs": [
    {
     "data": {
      "text/html": [
       "<div>\n",
       "<style scoped>\n",
       "    .dataframe tbody tr th:only-of-type {\n",
       "        vertical-align: middle;\n",
       "    }\n",
       "\n",
       "    .dataframe tbody tr th {\n",
       "        vertical-align: top;\n",
       "    }\n",
       "\n",
       "    .dataframe thead th {\n",
       "        text-align: right;\n",
       "    }\n",
       "</style>\n",
       "<table border=\"1\" class=\"dataframe\">\n",
       "  <thead>\n",
       "    <tr style=\"text-align: right;\">\n",
       "      <th></th>\n",
       "      <th>x_data</th>\n",
       "      <th>y_true</th>\n",
       "    </tr>\n",
       "  </thead>\n",
       "  <tbody>\n",
       "    <tr>\n",
       "      <th>0</th>\n",
       "      <td>0.000000</td>\n",
       "      <td>5.839011</td>\n",
       "    </tr>\n",
       "    <tr>\n",
       "      <th>1</th>\n",
       "      <td>1.001001</td>\n",
       "      <td>4.043911</td>\n",
       "    </tr>\n",
       "    <tr>\n",
       "      <th>2</th>\n",
       "      <td>2.002002</td>\n",
       "      <td>6.343823</td>\n",
       "    </tr>\n",
       "    <tr>\n",
       "      <th>3</th>\n",
       "      <td>3.003003</td>\n",
       "      <td>10.971693</td>\n",
       "    </tr>\n",
       "    <tr>\n",
       "      <th>4</th>\n",
       "      <td>4.004004</td>\n",
       "      <td>8.320449</td>\n",
       "    </tr>\n",
       "  </tbody>\n",
       "</table>\n",
       "</div>"
      ],
      "text/plain": [
       "     x_data     y_true\n",
       "0  0.000000   5.839011\n",
       "1  1.001001   4.043911\n",
       "2  2.002002   6.343823\n",
       "3  3.003003  10.971693\n",
       "4  4.004004   8.320449"
      ]
     },
     "execution_count": 98,
     "metadata": {},
     "output_type": "execute_result"
    }
   ],
   "source": [
    "# create a dataframe from data\n",
    "df_x = pd.DataFrame(data = x_data, columns=['x_data'])\n",
    "df_y = pd.DataFrame(data = y_true, columns=['y_true'])\n",
    "\n",
    "train_data= pd.concat([df_x, df_y], axis=1)\n",
    "train_data.head()"
   ]
  },
  {
   "cell_type": "code",
   "execution_count": 93,
   "metadata": {},
   "outputs": [
    {
     "data": {
      "text/plain": [
       "0    0.000000\n",
       "3    3.003003\n",
       "5    5.005005\n",
       "Name: x_data, dtype: float64"
      ]
     },
     "execution_count": 93,
     "metadata": {},
     "output_type": "execute_result"
    }
   ],
   "source": [
    "random_indexes = np.random.randint(0,100,10)\n",
    "df_x.iloc[[0,3,5],0]"
   ]
  },
  {
   "cell_type": "code",
   "execution_count": 99,
   "metadata": {},
   "outputs": [
    {
     "data": {
      "text/plain": [
       "<matplotlib.axes._subplots.AxesSubplot at 0x7f7104532be0>"
      ]
     },
     "execution_count": 99,
     "metadata": {},
     "output_type": "execute_result"
    },
    {
     "data": {
      "image/png": "[encoded data removed]",
      "text/plain": [
       "<Figure size 432x288 with 1 Axes>"
      ]
     },
     "metadata": {},
     "output_type": "display_data"
    }
   ],
   "source": [
    "train_data.sample(n=250).plot(kind='scatter', x='x_data', y='y_true')"
   ]
  },
  {
   "cell_type": "code",
   "execution_count": 67,
   "metadata": {},
   "outputs": [
    {
     "name": "stdout",
     "output_type": "stream",
     "text": [
      " epoch: 0, cost: 0.24181222915649414\n",
      " epoch: 100, cost: 0.2746756672859192\n",
      " epoch: 200, cost: 0.27492469549179077\n",
      " epoch: 300, cost: 0.2012568712234497\n",
      " epoch: 400, cost: 0.23898792266845703\n",
      " epoch: 500, cost: 0.30651921033859253\n",
      " epoch: 600, cost: 0.2227165251970291\n",
      " epoch: 700, cost: 0.26080796122550964\n",
      " epoch: 800, cost: 0.27952033281326294\n",
      " epoch: 900, cost: 0.21186238527297974\n"
     ]
    }
   ],
   "source": [
    "# define tensorflow graph\n",
    "\n",
    "x = tf.placeholder(dtype=tf.float32, name='x', shape=[batch_size])\n",
    "y = tf.placeholder(dtype=tf.float32, name='y', shape=[batch_size])\n",
    "\n",
    "m = tf.Variable(initial_value = tf.random_normal(shape=(1,1),mean=0, stddev=1.0, dtype=tf.float32))\n",
    "b = tf.zeros(shape=(1,1), dtype= tf.float32)\n",
    "\n",
    "y_ = tf.add(tf.multiply(x, m), b)\n",
    "\n",
    "cost  = tf.reduce_mean(tf.square((y-y_)))\n",
    "\n",
    "optimizer = tf.train.GradientDescentOptimizer(learning_rate=1e-3).minimize(cost)\n",
    "cost_hist = []\n",
    "prediction = None\n",
    "with tf.Session() as sess:\n",
    "    sess.run(tf.global_variables_initializer())\n",
    "    num_epochs = 1000   \n",
    "    \n",
    "    # run training algorithm over num_epochs\n",
    "    for epoch_no in range(num_epochs):\n",
    "        \n",
    "        # generate a random batch of train_x and train_y\n",
    "        #random_indexes = np.random.randint(0,len(df_x), batch_size)\n",
    "        \n",
    "        # get batch_x, batch_y\n",
    "        batch_x, batch_y = df_x.iloc[epoch_no : epoch_no + batch_size,0], df_y.iloc[epoch_no : epoch_no + batch_size,0]\n",
    "        \n",
    "        # compute cost\n",
    "        computed_cost,_ = sess.run([cost, optimizer], feed_dict={x : batch_x, y : batch_y})\n",
    "        \n",
    "        cost_hist.append(computed_cost)\n",
    "        if epoch_no% 100 == 0:\n",
    "            print(\" epoch: {}, cost: {}\".format(epoch_no, computed_cost))\n",
    "    opt_m, opt_b = sess.run([m,b])\n",
    "\n",
    "    # use opt_m and opt_b for prediction\n",
    "    prediction = ((x*opt_m) + opt_b)"
   ]
  },
  {
   "cell_type": "code",
   "execution_count": 68,
   "metadata": {},
   "outputs": [
    {
     "data": {
      "image/png": "[encoded data removed]",
      "text/plain": [
       "<Figure size 432x288 with 1 Axes>"
      ]
     },
     "metadata": {},
     "output_type": "display_data"
    }
   ],
   "source": [
    "# plot variation of cost with no of epochs\n",
    "plt.plot(range(num_epochs),cost_hist)\n",
    "plt.show()"
   ]
  }
 ],
 "metadata": {
  "kernelspec": {
   "display_name": "Python 3",
   "language": "python",
   "name": "python3"
  },
  "language_info": {
   "codemirror_mode": {
    "name": "ipython",
    "version": 3
   },
   "file_extension": ".py",
   "mimetype": "text/x-python",
   "name": "python",
   "nbconvert_exporter": "python",
   "pygments_lexer": "ipython3",
   "version": "3.6.4"
  }
 },
 "nbformat": 4,
 "nbformat_minor": 2
}
