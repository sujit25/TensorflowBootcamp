{
 "cells": [
  {
   "cell_type": "code",
   "execution_count": 1,
   "metadata": {},
   "outputs": [
    {
     "name": "stderr",
     "output_type": "stream",
     "text": [
      "/home/sujit25/anaconda3/envs/ml_env/lib/python3.6/site-packages/h5py/__init__.py:34: FutureWarning: Conversion of the second argument of issubdtype from `float` to `np.floating` is deprecated. In future, it will be treated as `np.float64 == np.dtype(float).type`.\n",
      "  from ._conv import register_converters as _register_converters\n"
     ]
    }
   ],
   "source": [
    "import tensorflow as tf\n",
    "import numpy as np"
   ]
  },
  {
   "cell_type": "code",
   "execution_count": 2,
   "metadata": {},
   "outputs": [],
   "source": [
    "n_features = 10\n",
    "n_dense_neurons = 3"
   ]
  },
  {
   "cell_type": "code",
   "execution_count": 9,
   "metadata": {},
   "outputs": [],
   "source": [
    "# define graph\n",
    "x = tf.placeholder(dtype=tf.float32, shape=(None, n_features))\n",
    "w = tf.Variable(dtype=tf.float32, initial_value= tf.random_normal(shape=(n_features, n_dense_neurons), mean=0, stddev=1))\n",
    "b = tf.Variable(dtype=tf.float32, initial_value= tf.zeros(shape=(n_dense_neurons)))\n",
    "\n",
    "# linear mapping \n",
    "xW = tf.matmul(x, w)\n",
    "z = tf.add(xW, b)\n",
    "a = tf.sigmoid(z)"
   ]
  },
  {
   "cell_type": "code",
   "execution_count": 10,
   "metadata": {},
   "outputs": [
    {
     "name": "stdout",
     "output_type": "stream",
     "text": [
      "[[0.6714236  0.7740478  0.19616568]\n",
      " [0.6897649  0.46106768 0.33339578]\n",
      " [0.5029633  0.8992419  0.00901688]\n",
      " [0.4273301  0.7151545  0.06284306]\n",
      " [0.47875416 0.7145208  0.02497862]\n",
      " [0.6183666  0.6272834  0.23861265]\n",
      " [0.40670803 0.7936248  0.32591733]\n",
      " [0.2929316  0.74657196 0.12238894]\n",
      " [0.45268714 0.21656454 0.09361807]\n",
      " [0.2803398  0.5034608  0.16987415]]\n"
     ]
    }
   ],
   "source": [
    "with tf.Session() as sess:\n",
    "    init = tf.global_variables_initializer()\n",
    "    sess.run(init)\n",
    "    \n",
    "    computed_a = sess.run(a, feed_dict={x: np.random.uniform(low=0, high=1, size=(10, n_features))})\n",
    "    print(computed_a)"
   ]
  }
 ],
 "metadata": {
  "kernelspec": {
   "display_name": "Python 3",
   "language": "python",
   "name": "python3"
  },
  "language_info": {
   "codemirror_mode": {
    "name": "ipython",
    "version": 3
   },
   "file_extension": ".py",
   "mimetype": "text/x-python",
   "name": "python",
   "nbconvert_exporter": "python",
   "pygments_lexer": "ipython3",
   "version": "3.6.4"
  }
 },
 "nbformat": 4,
 "nbformat_minor": 2
}
