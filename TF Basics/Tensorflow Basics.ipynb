{
 "cells": [
  {
   "cell_type": "code",
   "execution_count": 1,
   "metadata": {},
   "outputs": [
    {
     "name": "stderr",
     "output_type": "stream",
     "text": [
      "/home/sujit25/anaconda3/envs/ml_env/lib/python3.6/site-packages/h5py/__init__.py:34: FutureWarning: Conversion of the second argument of issubdtype from `float` to `np.floating` is deprecated. In future, it will be treated as `np.float64 == np.dtype(float).type`.\n",
      "  from ._conv import register_converters as _register_converters\n"
     ]
    }
   ],
   "source": [
    "import tensorflow as tf"
   ]
  },
  {
   "cell_type": "code",
   "execution_count": 2,
   "metadata": {},
   "outputs": [
    {
     "name": "stdout",
     "output_type": "stream",
     "text": [
      "1.7.0\n"
     ]
    }
   ],
   "source": [
    "print(tf.__version__)"
   ]
  },
  {
   "cell_type": "code",
   "execution_count": 4,
   "metadata": {},
   "outputs": [],
   "source": [
    "hello = tf.constant(\"Hello\")\n",
    "world = tf.constant(\"World\")"
   ]
  },
  {
   "cell_type": "code",
   "execution_count": 5,
   "metadata": {},
   "outputs": [
    {
     "name": "stdout",
     "output_type": "stream",
     "text": [
      "b'HelloWorld'\n"
     ]
    }
   ],
   "source": [
    "with tf.Session() as sess:\n",
    "    print(sess.run(hello + world))"
   ]
  },
  {
   "cell_type": "code",
   "execution_count": 7,
   "metadata": {},
   "outputs": [
    {
     "name": "stdout",
     "output_type": "stream",
     "text": [
      "30\n"
     ]
    }
   ],
   "source": [
    "a = tf.constant(10)\n",
    "b= tf.constant(20)\n",
    "c= a + b\n",
    "\n",
    "with tf.Session() as sess:\n",
    "    print(sess.run(c))"
   ]
  },
  {
   "cell_type": "code",
   "execution_count": 9,
   "metadata": {},
   "outputs": [
    {
     "name": "stdout",
     "output_type": "stream",
     "text": [
      "filled mat [[10 10 10 10]\n",
      " [10 10 10 10]\n",
      " [10 10 10 10]\n",
      " [10 10 10 10]]\n",
      "zeros mat [[0. 0. 0. 0.]\n",
      " [0. 0. 0. 0.]\n",
      " [0. 0. 0. 0.]\n",
      " [0. 0. 0. 0.]]\n",
      "ones mat [[1. 1. 1. 1.]\n",
      " [1. 1. 1. 1.]\n",
      " [1. 1. 1. 1.]\n",
      " [1. 1. 1. 1.]]\n",
      "random mat [[ 0.44483092  0.92475903 -0.90111125  1.581093  ]\n",
      " [ 0.9971793   0.60088885 -0.55525357  0.39798424]\n",
      " [ 0.63436127  0.19315493  0.07892652 -0.2571966 ]\n",
      " [ 0.6058792  -0.24564922 -0.28464445  0.4849493 ]]\n"
     ]
    }
   ],
   "source": [
    "const_val = tf.constant(10)\n",
    "fill_mat = tf.fill((4,4),const_val)\n",
    "zeros_mat = tf.zeros((4,4))\n",
    "ones_mat = tf.ones((4,4))\n",
    "random_mat = tf.random_normal(shape=(4,4), mean=0.0, stddev = 1.0, dtype=tf.float32)\n",
    "\n",
    "with tf.Session() as sess:\n",
    "    print(\"filled mat\", sess.run(fill_mat))\n",
    "    print(\"zeros mat\", sess.run(zeros_mat))\n",
    "    print(\"ones mat\", sess.run(ones_mat))\n",
    "    print(\"random mat\", sess.run(random_mat))\n",
    "    "
   ]
  },
  {
   "cell_type": "code",
   "execution_count": 11,
   "metadata": {},
   "outputs": [
    {
     "name": "stdout",
     "output_type": "stream",
     "text": [
      "[4 4]\n"
     ]
    }
   ],
   "source": [
    "shape_op = tf.shape(fill_mat)\n",
    "with tf.Session() as sess:\n",
    "    print(sess.run(shape_op))"
   ]
  }
 ],
 "metadata": {
  "kernelspec": {
   "display_name": "Python 3",
   "language": "python",
   "name": "python3"
  },
  "language_info": {
   "codemirror_mode": {
    "name": "ipython",
    "version": 3
   },
   "file_extension": ".py",
   "mimetype": "text/x-python",
   "name": "python",
   "nbconvert_exporter": "python",
   "pygments_lexer": "ipython3",
   "version": "3.6.4"
  }
 },
 "nbformat": 4,
 "nbformat_minor": 2
}
