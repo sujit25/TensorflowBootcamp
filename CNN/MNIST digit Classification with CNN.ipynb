{
 "cells": [
  {
   "cell_type": "code",
   "execution_count": 1,
   "metadata": {},
   "outputs": [
    {
     "name": "stderr",
     "output_type": "stream",
     "text": [
      "/home/sujit25/anaconda3/envs/ml_env/lib/python3.6/site-packages/h5py/__init__.py:34: FutureWarning: Conversion of the second argument of issubdtype from `float` to `np.floating` is deprecated. In future, it will be treated as `np.float64 == np.dtype(float).type`.\n",
      "  from ._conv import register_converters as _register_converters\n"
     ]
    }
   ],
   "source": [
    "import tensorflow as tf\n",
    "import numpy as np\n",
    "import matplotlib.pyplot as plt"
   ]
  },
  {
   "cell_type": "code",
   "execution_count": 2,
   "metadata": {},
   "outputs": [
    {
     "name": "stdout",
     "output_type": "stream",
     "text": [
      "WARNING:tensorflow:From /home/sujit25/anaconda3/envs/ml_env/lib/python3.6/site-packages/tensorflow/contrib/learn/python/learn/datasets/base.py:198: retry (from tensorflow.contrib.learn.python.learn.datasets.base) is deprecated and will be removed in a future version.\n",
      "Instructions for updating:\n",
      "Use the retry module or similar alternatives.\n",
      "WARNING:tensorflow:From <ipython-input-2-a6e37347f2f9>:2: read_data_sets (from tensorflow.contrib.learn.python.learn.datasets.mnist) is deprecated and will be removed in a future version.\n",
      "Instructions for updating:\n",
      "Please use alternatives such as official/mnist/dataset.py from tensorflow/models.\n",
      "WARNING:tensorflow:From /home/sujit25/anaconda3/envs/ml_env/lib/python3.6/site-packages/tensorflow/contrib/learn/python/learn/datasets/mnist.py:260: maybe_download (from tensorflow.contrib.learn.python.learn.datasets.base) is deprecated and will be removed in a future version.\n",
      "Instructions for updating:\n",
      "Please write your own downloading logic.\n",
      "WARNING:tensorflow:From /home/sujit25/anaconda3/envs/ml_env/lib/python3.6/site-packages/tensorflow/contrib/learn/python/learn/datasets/mnist.py:262: extract_images (from tensorflow.contrib.learn.python.learn.datasets.mnist) is deprecated and will be removed in a future version.\n",
      "Instructions for updating:\n",
      "Please use tf.data to implement this functionality.\n",
      "Extracting ../Data/MNIST_data/train-images-idx3-ubyte.gz\n",
      "WARNING:tensorflow:From /home/sujit25/anaconda3/envs/ml_env/lib/python3.6/site-packages/tensorflow/contrib/learn/python/learn/datasets/mnist.py:267: extract_labels (from tensorflow.contrib.learn.python.learn.datasets.mnist) is deprecated and will be removed in a future version.\n",
      "Instructions for updating:\n",
      "Please use tf.data to implement this functionality.\n",
      "Extracting ../Data/MNIST_data/train-labels-idx1-ubyte.gz\n",
      "WARNING:tensorflow:From /home/sujit25/anaconda3/envs/ml_env/lib/python3.6/site-packages/tensorflow/contrib/learn/python/learn/datasets/mnist.py:110: dense_to_one_hot (from tensorflow.contrib.learn.python.learn.datasets.mnist) is deprecated and will be removed in a future version.\n",
      "Instructions for updating:\n",
      "Please use tf.one_hot on tensors.\n",
      "Extracting ../Data/MNIST_data/t10k-images-idx3-ubyte.gz\n",
      "Extracting ../Data/MNIST_data/t10k-labels-idx1-ubyte.gz\n",
      "WARNING:tensorflow:From /home/sujit25/anaconda3/envs/ml_env/lib/python3.6/site-packages/tensorflow/contrib/learn/python/learn/datasets/mnist.py:290: DataSet.__init__ (from tensorflow.contrib.learn.python.learn.datasets.mnist) is deprecated and will be removed in a future version.\n",
      "Instructions for updating:\n",
      "Please use alternatives such as official/mnist/dataset.py from tensorflow/models.\n"
     ]
    }
   ],
   "source": [
    "from tensorflow.examples.tutorials.mnist import input_data\n",
    "mnist_data = input_data.read_data_sets(\"../Data/MNIST_data\", one_hot=True)"
   ]
  },
  {
   "cell_type": "markdown",
   "metadata": {},
   "source": [
    "# define computation graph"
   ]
  },
  {
   "cell_type": "code",
   "execution_count": 3,
   "metadata": {},
   "outputs": [],
   "source": [
    "num_epochs= 100\n",
    "batch_size = 50\n",
    "learning_rate = 1e-4"
   ]
  },
  {
   "cell_type": "code",
   "execution_count": 4,
   "metadata": {},
   "outputs": [],
   "source": [
    "def init_weights(t_shape):\n",
    "    return tf.Variable(dtype=tf.float32, initial_value = tf.random_uniform(t_shape, minval=0, maxval=1, dtype=tf.float32))"
   ]
  },
  {
   "cell_type": "code",
   "execution_count": 5,
   "metadata": {},
   "outputs": [],
   "source": [
    "def init_bias(t_shape):\n",
    "    return tf.Variable(initial_value = tf.zeros(shape=t_shape), dtype= tf.float32)"
   ]
  },
  {
   "cell_type": "code",
   "execution_count": 6,
   "metadata": {},
   "outputs": [],
   "source": [
    "def conv2d(x, W):\n",
    "    # x -> [num_images, image_height, image_width, num_channels]\n",
    "    # W -> [filter_h, filter_w, num_channels, num_filters]\n",
    "    return tf.nn.conv2d(input=x, filter=W, strides=[1,1,1,1], padding='SAME')"
   ]
  },
  {
   "cell_type": "code",
   "execution_count": 7,
   "metadata": {},
   "outputs": [],
   "source": [
    "def relu_activation(x):\n",
    "    return tf.nn.relu(x)"
   ]
  },
  {
   "cell_type": "code",
   "execution_count": 8,
   "metadata": {},
   "outputs": [],
   "source": [
    "def maxpool_2by2(x):\n",
    "    # x -> [num_images, image_height, image_width, num_channels]\n",
    "    # ksize = window size,\n",
    "    # strides =  \n",
    "    return tf.nn.max_pool(value=x, ksize=[1,2,2,1], strides=[1,2,2,1], padding='SAME')"
   ]
  },
  {
   "cell_type": "code",
   "execution_count": 9,
   "metadata": {},
   "outputs": [],
   "source": [
    "def convolutional_layer(input_x, shape):\n",
    "    W = init_weights(shape)\n",
    "    b = init_bias([shape[3]])\n",
    "    z = tf.add(conv2d(input_x, W), b)\n",
    "    a = tf.nn.relu(z)\n",
    "    return a"
   ]
  },
  {
   "cell_type": "code",
   "execution_count": 10,
   "metadata": {},
   "outputs": [],
   "source": [
    "def fully_connected_layer(prev_activation, input_layer_size, output_layer_size):\n",
    "    hidden_weights = init_weights([input_layer_size, output_layer_size])\n",
    "    bias = init_bias([output_layer_size])\n",
    "    return tf.add(tf.matmul(prev_activation, hidden_weights), bias)"
   ]
  },
  {
   "cell_type": "code",
   "execution_count": 11,
   "metadata": {},
   "outputs": [
    {
     "name": "stdout",
     "output_type": "stream",
     "text": [
      "WARNING:tensorflow:From <ipython-input-11-eb39d127dd8d>:37: softmax_cross_entropy_with_logits (from tensorflow.python.ops.nn_ops) is deprecated and will be removed in a future version.\n",
      "Instructions for updating:\n",
      "\n",
      "Future major versions of TensorFlow will allow gradients to flow\n",
      "into the labels input on backprop by default.\n",
      "\n",
      "See tf.nn.softmax_cross_entropy_with_logits_v2.\n",
      "\n"
     ]
    }
   ],
   "source": [
    "# Placeholders\n",
    "x = tf.placeholder( dtype= tf.float32, shape = [None, 28*28])\n",
    "y = tf.placeholder( dtype= tf.float32, shape = [None, 10])\n",
    "\n",
    "# Layers\n",
    "# reshape input tensor x \n",
    "x_image = tf.reshape(x, shape= [-1,28,28,1])\n",
    "\n",
    "# conv1 layer\n",
    "z1 = convolutional_layer(x_image, [5,5,1,32])\n",
    "\n",
    "# relu layer 1\n",
    "a1 = relu_activation(z1)\n",
    "\n",
    "# max pool layer 1\n",
    "p1 = maxpool_2by2(a1)\n",
    "\n",
    "# conv2 layer\n",
    "z2 = convolutional_layer(p1, [5,5,32,64])\n",
    "\n",
    "# relu 2 layer\n",
    "a2 = relu_activation(z2)\n",
    "\n",
    "# max pool layer 2\n",
    "p2 = maxpool_2by2(a2)\n",
    "\n",
    "# flatout \n",
    "p2_flatten_out = tf.reshape(p2, shape=[-1, 7*7*64])\n",
    "\n",
    "# fc1\n",
    "# p2_flatten_out - num_images, 3136\n",
    "# input_layer_size - 3136\n",
    "# output_layer_size - 10\n",
    "z3 = fully_connected_layer(p2_flatten_out,7*7*64,10)\n",
    "\n",
    "# loss function - compute overall loss\n",
    "cross_entropy_loss = tf.reduce_mean(tf.nn.softmax_cross_entropy_with_logits(labels = y, logits= z3))\n",
    "\n",
    "# optimizer\n",
    "train = tf.train.GradientDescentOptimizer(learning_rate).minimize(cross_entropy_loss)\n",
    "\n",
    "# accuracy \n",
    "correct_predictions = tf.equal(tf.argmax(z3, axis=1), tf.argmax(y, axis=1)) \n",
    "accuracy = tf.reduce_mean(tf.cast(correct_predictions, dtype= tf.float32))"
   ]
  },
  {
   "cell_type": "code",
   "execution_count": null,
   "metadata": {},
   "outputs": [],
   "source": [
    "# run computational graph\n",
    "\n",
    "# configuration for allowing usage of gpu with requirement\n",
    "# config = tf.ConfigProto()\n",
    "# config.gpu_options.allow_growth = True\n",
    "# config.log_device_placement=True\n",
    "\n",
    "with tf.Session() as sess:\n",
    "    \n",
    "    init = tf.global_variables_initializer()\n",
    "    \n",
    "    # initialize global variables\n",
    "    sess.run(init)\n",
    "    cost_hist= []\n",
    "    # iterate over epochs\n",
    "    for epoch_num in range(num_epochs):\n",
    "        epoch_cost = 0\n",
    "        \n",
    "        num_batches = int(mnist_data.train.num_examples/ batch_size)\n",
    "        \n",
    "        # iterate over batches\n",
    "        for batch_index in range(num_batches):\n",
    "            batch_cost = 0\n",
    "            batch_x, batch_y = mnist_data.train.next_batch(batch_size=batch_size)\n",
    "            batch_cost,_ = sess.run([cross_entropy_loss, train], feed_dict = {x: batch_x, y: batch_y})\n",
    "            epoch_cost += batch_cost\n",
    "        \n",
    "        cost_hist.append(epoch_cost)\n",
    "        \n",
    "        # compute train accuracy\n",
    "        train_acc = sess.run(accuracy, feed_dict ={x : mnist_data.train.images, y: mnist_data.train.labels})\n",
    "        \n",
    "        # compute test accuracy\n",
    "        test_acc = sess.run(accuracy, feed_dict ={x : mnist_data.test.images, y:mnist_data.test.labels})\n",
    "        \n",
    "        # print cost\n",
    "        if epoch_num % 100 == 0:\n",
    "            print(\"epoch: {}, cost: {}, train acc: {}, test acc: {}\".format(epoch_num, epoch_cost, train_acc, test_acc))"
   ]
  },
  {
   "cell_type": "code",
   "execution_count": null,
   "metadata": {},
   "outputs": [],
   "source": []
  }
 ],
 "metadata": {
  "kernelspec": {
   "display_name": "Python 3",
   "language": "python",
   "name": "python3"
  },
  "language_info": {
   "codemirror_mode": {
    "name": "ipython",
    "version": 3
   },
   "file_extension": ".py",
   "mimetype": "text/x-python",
   "name": "python",
   "nbconvert_exporter": "python",
   "pygments_lexer": "ipython3",
   "version": "3.6.4"
  }
 },
 "nbformat": 4,
 "nbformat_minor": 2
}
