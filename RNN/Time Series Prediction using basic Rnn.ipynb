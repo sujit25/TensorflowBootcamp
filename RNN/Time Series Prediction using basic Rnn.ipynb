{
 "cells": [
  {
   "cell_type": "code",
   "execution_count": 1,
   "metadata": {},
   "outputs": [
    {
     "name": "stderr",
     "output_type": "stream",
     "text": [
      "/home/sujit25/anaconda3/envs/ml_env/lib/python3.6/site-packages/h5py/__init__.py:34: FutureWarning: Conversion of the second argument of issubdtype from `float` to `np.floating` is deprecated. In future, it will be treated as `np.float64 == np.dtype(float).type`.\n",
      "  from ._conv import register_converters as _register_converters\n"
     ]
    }
   ],
   "source": [
    "import numpy as np\n",
    "import tensorflow as tf\n",
    "%matplotlib inline\n",
    "import matplotlib.pyplot as plt"
   ]
  },
  {
   "cell_type": "code",
   "execution_count": 2,
   "metadata": {},
   "outputs": [],
   "source": [
    "num_steps = 5\n",
    "batch_size = 200\n",
    "num_classes= 2\n",
    "state_size = 4\n",
    "learning_rate = 0.01"
   ]
  },
  {
   "cell_type": "code",
   "execution_count": 3,
   "metadata": {},
   "outputs": [],
   "source": [
    "def generate_data(size=10000):\n",
    "    X = np.array(np.random.choice(2, size))\n",
    "    Y= []\n",
    "    for i in range(size):\n",
    "        threshold = 0.5\n",
    "        if X[i-3] == 1:\n",
    "            threshold += 0.5\n",
    "        if X[i-8] == 1:\n",
    "            threshold -= 0.25\n",
    "        if np.random.rand() > threshold:\n",
    "            Y.append(0)\n",
    "        else:\n",
    "            Y.append(1)\n",
    "    return X, np.array(Y)"
   ]
  },
  {
   "cell_type": "code",
   "execution_count": 5,
   "metadata": {},
   "outputs": [],
   "source": [
    "def generate_batch(raw_data, batch_size, num_steps):\n",
    "    raw_x, raw_y = raw_data\n",
    "    data_length = len(raw_data)\n",
    "    \n",
    "    # batch partition length is num of batches, but we are converting data into format of \n",
    "    # long time series -> [batch0-> batch_partition...],\n",
    "    #                     [batch1-> batch_partition...],\n",
    "    #                     [batch2-> batch_partition...]\n",
    "    \n",
    "    \n",
    "    batch_partition_len = data_length//batch_size   # get no. of batches here\n",
    "    \n",
    "    data_x = np.zeros([batch_size, batch_partition_len] ,dtype= np.int32)\n",
    "    data_y = np.zeros([batch_size, batch_partition_len] ,dtype= np.int32)\n",
    "    \n",
    "    for i in range(batch_size):\n",
    "        data_x = raw_x[batch_partition_len*i : batch_partition_len*(i+1)]\n",
    "        data_y = raw_y[batch_partition_len*i : batch_partition_len*(i+1)]        \n",
    "    \n",
    "    epoch_size = batch_partition_len // num_steps # calculate how many positions will be required \n",
    "    # to capture data in we fetch num_steps data units at a time\n",
    "        \n",
    "    # further divide batch partitions into num_steps \n",
    "    # slice vertically over data_x and data_y matrix using num_steps units horizontally\n",
    "    for i in range(epoch_size):\n",
    "        x = data_x[:, i* num_steps: i*(num_steps + 1)]  # x's shape - batch_size, num_steps\n",
    "        y = data_y[:, i* num_steps: i*(num_steps + 1)]  # y's shape - batch_size, num_steps\n",
    "        \n",
    "        # yield each slice of data during each iteration\n",
    "        yield (x,y)        \n",
    "        \n",
    "def gen_epochs(n, num_steps):\n",
    "    for i in range(n):\n",
    "        yield generate_batch(generate_data(),batch_size, num_steps)"
   ]
  },
  {
   "cell_type": "code",
   "execution_count": 6,
   "metadata": {},
   "outputs": [],
   "source": [
    "x = tf.placeholder(tf.int32, [batch_size, num_steps], name='inputs_placeholder')\n",
    "y = tf.placeholder(tf.int32, [batch_size, num_steps], name='inputs_placeholder')\n"
   ]
  }
 ],
 "metadata": {
  "kernelspec": {
   "display_name": "Python 3",
   "language": "python",
   "name": "python3"
  },
  "language_info": {
   "codemirror_mode": {
    "name": "ipython",
    "version": 3
   },
   "file_extension": ".py",
   "mimetype": "text/x-python",
   "name": "python",
   "nbconvert_exporter": "python",
   "pygments_lexer": "ipython3",
   "version": "3.6.4"
  }
 },
 "nbformat": 4,
 "nbformat_minor": 2
}
