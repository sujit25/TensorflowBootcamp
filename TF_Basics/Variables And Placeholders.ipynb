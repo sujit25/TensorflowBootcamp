{
 "cells": [
  {
   "cell_type": "code",
   "execution_count": 1,
   "metadata": {},
   "outputs": [
    {
     "name": "stderr",
     "output_type": "stream",
     "text": [
      "/home/sujit25/anaconda3/envs/ml_env/lib/python3.6/site-packages/h5py/__init__.py:34: FutureWarning: Conversion of the second argument of issubdtype from `float` to `np.floating` is deprecated. In future, it will be treated as `np.float64 == np.dtype(float).type`.\n",
      "  from ._conv import register_converters as _register_converters\n"
     ]
    }
   ],
   "source": [
    "import tensorflow as tf"
   ]
  },
  {
   "cell_type": "code",
   "execution_count": 2,
   "metadata": {},
   "outputs": [],
   "source": [
    "sess = tf.InteractiveSession()"
   ]
  },
  {
   "cell_type": "code",
   "execution_count": 7,
   "metadata": {},
   "outputs": [
    {
     "name": "stdout",
     "output_type": "stream",
     "text": [
      "[[0.73403406 0.9976826  0.32173777 0.770362  ]\n",
      " [0.98949945 0.71976435 0.67942    0.8452796 ]\n",
      " [0.13052511 0.5472573  0.4979174  0.38806593]\n",
      " [0.5590353  0.8681352  0.94477797 0.5160471 ]]\n"
     ]
    }
   ],
   "source": [
    "# initialize variable with random values initializer\n",
    "my_var = tf.Variable(initial_value= tf.random_uniform(shape=(4,4), minval=0, maxval =1))\n",
    "# global variable initializer node\n",
    "initializer = tf.global_variables_initializer()\n",
    "\n",
    "# initialize global variables\n",
    "sess.run(initializer)\n",
    "\n",
    "# run declared variable\n",
    "print(sess.run(my_var))"
   ]
  },
  {
   "cell_type": "code",
   "execution_count": null,
   "metadata": {},
   "outputs": [],
   "source": []
  },
  {
   "cell_type": "code",
   "execution_count": null,
   "metadata": {},
   "outputs": [],
   "source": []
  }
 ],
 "metadata": {
  "kernelspec": {
   "display_name": "Python 3",
   "language": "python",
   "name": "python3"
  },
  "language_info": {
   "codemirror_mode": {
    "name": "ipython",
    "version": 3
   },
   "file_extension": ".py",
   "mimetype": "text/x-python",
   "name": "python",
   "nbconvert_exporter": "python",
   "pygments_lexer": "ipython3",
   "version": "3.6.4"
  }
 },
 "nbformat": 4,
 "nbformat_minor": 2
}
